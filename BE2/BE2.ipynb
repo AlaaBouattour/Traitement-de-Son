{
 "cells": [
  {
   "cell_type": "code",
   "execution_count": 1,
   "metadata": {},
   "outputs": [],
   "source": [
    "# install dependencies\n",
    "#! pip install fastdtw"
   ]
  },
  {
   "cell_type": "code",
   "execution_count": 2,
   "metadata": {},
   "outputs": [],
   "source": [
    "import numpy as np\n",
    "import librosa\n",
    "import librosa.display\n",
    "import matplotlib.pyplot as plt\n",
    "from scipy.spatial.distance import cdist\n",
    "from fastdtw import fastdtw\n",
    "import os"
   ]
  },
  {
   "cell_type": "code",
   "execution_count": 3,
   "metadata": {},
   "outputs": [
    {
     "name": "stdout",
     "output_type": "stream",
     "text": [
      "Signal shape: (11154,), Sample rate: 16000\n"
     ]
    }
   ],
   "source": [
    "# fonction pour importer un audio\n",
    "def load_audio(file_path, sr=16000):\n",
    "    signal, sample_rate = librosa.load(file_path, sr=sr)\n",
    "    return signal, sample_rate\n",
    "\n",
    "# utilisation\n",
    "signal, sr = load_audio(\"test3/agauche.wav\")\n",
    "print(f\"Signal shape: {signal.shape}, Sample rate: {sr}\")"
   ]
  },
  {
   "cell_type": "code",
   "execution_count": 4,
   "metadata": {},
   "outputs": [
    {
     "name": "stdout",
     "output_type": "stream",
     "text": [
      "MFCC shape: (22, 13)\n"
     ]
    }
   ],
   "source": [
    "# Fonction pour calculer les MFCC \n",
    "def extract_mfcc(signal, sample_rate, n_mfcc=13):\n",
    "    mfcc = librosa.feature.mfcc(y=signal, sr=sample_rate, n_mfcc=n_mfcc, hop_length=512, n_fft=2048)\n",
    "    return mfcc.T\n",
    "\n",
    "# utilisation\n",
    "mfcc = extract_mfcc(signal, sr)\n",
    "print(f\"MFCC shape: {mfcc.shape}\")"
   ]
  },
  {
   "cell_type": "code",
   "execution_count": 5,
   "metadata": {},
   "outputs": [
    {
     "name": "stdout",
     "output_type": "stream",
     "text": [
      "DTW Distance: 2205.3554567172037\n"
     ]
    }
   ],
   "source": [
    "# Fonction pour calculer la distance entre un fichier de test et un fichier de référence \n",
    "def calculate_dtw_distance(mfcc1, mfcc2):\n",
    "    distance, _ = fastdtw(mfcc1, mfcc2, dist=lambda x, y: np.linalg.norm(x - y))\n",
    "    return distance\n",
    "\n",
    "# utilisation\n",
    "ref_signal, ref_sr = load_audio(\"test3/agauche2.wav\")\n",
    "ref_mfcc = extract_mfcc(ref_signal, ref_sr)\n",
    "distance = calculate_dtw_distance(mfcc, ref_mfcc)\n",
    "print(f\"DTW Distance: {distance}\")\n"
   ]
  },
  {
   "cell_type": "code",
   "execution_count": 6,
   "metadata": {},
   "outputs": [],
   "source": [
    "# Fonction principale pour la reconnaissance \n",
    "def recognize_command(test_file, reference_files):\n",
    "    # Charger et extraire les MFCC du fichier de test\n",
    "    test_signal, test_sr = load_audio(test_file)\n",
    "    test_mfcc = extract_mfcc(test_signal, test_sr)\n",
    "    \n",
    "    # Initialiser les distances\n",
    "    distances = {}\n",
    "    \n",
    "    # Comparer avec chaque fichier de référence\n",
    "    for ref_file in reference_files:\n",
    "        ref_signal, ref_sr = load_audio(ref_file)\n",
    "        ref_mfcc = extract_mfcc(ref_signal, ref_sr)\n",
    "        distance = calculate_dtw_distance(test_mfcc, ref_mfcc)\n",
    "        distances[ref_file] = distance\n",
    "    \n",
    "    # Trouver la commande avec la plus petite distance\n",
    "    recognized_command = min(distances, key=distances.get)\n",
    "    return recognized_command, distances"
   ]
  },
  {
   "cell_type": "code",
   "execution_count": 7,
   "metadata": {},
   "outputs": [
    {
     "name": "stdout",
     "output_type": "stream",
     "text": [
      "Recognized Command: test3/agauche2.wav\n",
      "Distance to references: agauche2 is 2205.3554567172037\n",
      "Distance to references: adroite2 is 3375.1068892659446\n",
      "Distance to references: enavant2 is 2624.5582627064973\n",
      "Distance to references: stop2 is 3463.075128689807\n"
     ]
    }
   ],
   "source": [
    "reference_files = ['test3/'+i for i in [\"agauche2.wav\", \"adroite2.wav\", \"enavant2.wav\", \"stop2.wav\"]]\n",
    "\n",
    "test_file = \"test3/agauche.wav\"\n",
    "\n",
    "recognized_command, distances = recognize_command(test_file, reference_files)\n",
    "print(f\"Recognized Command: {recognized_command}\")\n",
    "for i in distances:\n",
    "    print(f\"Distance to references: {i[6:-4]} is {distances[i]}\")\n"
   ]
  },
  {
   "cell_type": "markdown",
   "metadata": {},
   "source": [
    "We can see that that gauche2 is indeed the good answer here. Because it has the smallest distance to the refrence."
   ]
  },
  {
   "cell_type": "code",
   "execution_count": 8,
   "metadata": {},
   "outputs": [
    {
     "data": {
      "image/png": "[encoded data removed]",
      "text/plain": [
       "<Figure size 1000x400 with 2 Axes>"
      ]
     },
     "metadata": {},
     "output_type": "display_data"
    }
   ],
   "source": [
    "def plot_mfcc(signal, sample_rate, title=\"MFCC\"):\n",
    "    mfcc = librosa.feature.mfcc(y=signal, sr=sample_rate, n_mfcc=13, hop_length=512, n_fft=2048)\n",
    "    plt.figure(figsize=(10, 4))\n",
    "    librosa.display.specshow(mfcc, x_axis=\"time\", sr=sample_rate, hop_length=512)\n",
    "    plt.colorbar()\n",
    "    plt.title(title)\n",
    "    plt.tight_layout()\n",
    "    plt.show()\n",
    "\n",
    "#Utilisation \n",
    "plot_mfcc(signal, sr, title=\"MFCC for agauche.wav\")"
   ]
  },
  {
   "cell_type": "markdown",
   "metadata": {},
   "source": [
    "Observations générales :\n",
    "\n",
    "- Axes :\n",
    "\n",
    "L'axe des abscisses (x) représente le temps en secondes.\n",
    "\n",
    "L'axe des ordonnées (y) représente les différents coefficients MFCC (généralement 13 ou plus selon les paramètres).\n",
    "\n",
    "- Intensité des couleurs :\n",
    "\n",
    "Les couleurs varient du bleu (valeurs basses) au rouge (valeurs élevées).\n",
    "\n",
    "Cela indique les variations d'énergie pour chaque coefficient MFCC sur la durée du signal.\n",
    "\n",
    "- Segments temporels :\n",
    "\n",
    "On observe des zones où les valeurs des MFCC changent de manière significative, ce qui reflète les transitions dans les caractéristiques spectrales du signal audio. Ces transitions pourraient correspondre à des phonèmes ou à des parties spécifiques de la commande vocale."
   ]
  },
  {
   "cell_type": "markdown",
   "metadata": {},
   "source": [
    "- Concentration d'énergie :\n",
    "\n",
    "Une bande rouge claire est visible dans les coefficients inférieurs (proche de 0). Cela indique que l'énergie principale est concentrée dans les premiers coefficients MFCC. C'est typique, car les premiers coefficients capturent l'énergie spectrale globale.\n",
    "\n",
    "Les coefficients plus élevés (en haut de l'axe y) sont moins significatifs, car ils capturent des détails plus fins du spectre.\n",
    "\n",
    "- Transitions temporelles :\n",
    "\n",
    "Les changements dans les couleurs sur l'axe du temps montrent des variations dans les caractéristiques du son, probablement dues à des variations de tonalité ou de contenu phonétique dans la commande \"À gauche\".\n",
    "\n",
    "- Durée du signal :\n",
    "La commande semble relativement courte, avec une durée d'environ 0,6 seconde. Cela correspond bien à une commande vocale simple."
   ]
  },
  {
   "cell_type": "markdown",
   "metadata": {},
   "source": [
    "# Précision de la classification"
   ]
  },
  {
   "cell_type": "code",
   "execution_count": 9,
   "metadata": {},
   "outputs": [
    {
     "name": "stdout",
     "output_type": "stream",
     "text": [
      "Résultats de classification :\n",
      "Fichier : test3/adroite.wav | Commande réelle : adroite | Commande prédite : adroite\n",
      "Fichier : test3/adroite4.mp3 | Commande réelle : adroite | Commande prédite : adroite\n",
      "Fichier : test3/adroite5.mp3 | Commande réelle : adroite | Commande prédite : enavant\n",
      "Fichier : test3/adroite3.wav | Commande réelle : adroite | Commande prédite : enavant\n",
      "Fichier : test3/agauche4.mp3 | Commande réelle : agauche | Commande prédite : agauche\n",
      "Fichier : test3/agauche5.mp3 | Commande réelle : agauche | Commande prédite : adroite\n",
      "Fichier : test3/agauche.wav | Commande réelle : agauche | Commande prédite : agauche\n",
      "Fichier : test3/agauche3.wav | Commande réelle : agauche | Commande prédite : agauche\n",
      "Fichier : test3/enavant3.wav | Commande réelle : enavant | Commande prédite : enavant\n",
      "Fichier : test3/enavant.wav | Commande réelle : enavant | Commande prédite : enavant\n",
      "Fichier : test3/enavant4.mp3 | Commande réelle : enavant | Commande prédite : enavant\n",
      "Fichier : test3/enavant5.mp3 | Commande réelle : enavant | Commande prédite : adroite\n",
      "Fichier : test3/stop4.mp3 | Commande réelle : stop | Commande prédite : stop\n",
      "Fichier : test3/stop5.mp3 | Commande réelle : stop | Commande prédite : stop\n",
      "Fichier : test3/stop.wav | Commande réelle : stop | Commande prédite : stop\n",
      "Fichier : test3/stop3.wav | Commande réelle : stop | Commande prédite : stop\n",
      "\n",
      "Précision de classification : 75.00%\n"
     ]
    }
   ],
   "source": [
    "import os\n",
    "import librosa\n",
    "import numpy as np\n",
    "from fastdtw import fastdtw\n",
    "\n",
    "audio_folder = \"test3\"\n",
    "\n",
    "commands = [\"adroite\", \"agauche\", \"enavant\", \"stop\"]\n",
    "\n",
    "# Fonction pour charger un fichier audio \n",
    "def load_audio(file_path, sr=16000):\n",
    "    signal, sample_rate = librosa.load(file_path, sr=sr)\n",
    "    return signal, sample_rate\n",
    "\n",
    "# Fonction pour extraire les MFCC\n",
    "def extract_mfcc(signal, sample_rate, n_mfcc=13):\n",
    "    mfcc = librosa.feature.mfcc(y=signal, sr=sample_rate, n_mfcc=n_mfcc, hop_length=512, n_fft=2048)\n",
    "    return mfcc.T\n",
    "\n",
    "# Fonction pour calculer la distance DTW\n",
    "def calculate_dtw_distance(mfcc1, mfcc2):\n",
    "    distance, _ = fastdtw(mfcc1, mfcc2, dist=lambda x, y: np.linalg.norm(x - y))\n",
    "    return distance\n",
    "\n",
    "# Reconnaissance des commandes\n",
    "def classify_commands(audio_folder, commands):\n",
    "    reference_files = {}\n",
    "    test_files = []\n",
    "    results = []\n",
    "\n",
    "    # Ici on prend 2 comme ref\n",
    "    for command in commands:\n",
    "        ref_file = [f for f in os.listdir(audio_folder) if f.startswith(f\"{command}2\") and (f.endswith(\".wav\") or f.endswith(\".mp3\"))]\n",
    "        if ref_file:\n",
    "            reference_files[command] = os.path.join(audio_folder, ref_file[0])\n",
    "        test_files += [os.path.join(audio_folder, f) for f in os.listdir(audio_folder) \n",
    "                       if f.startswith(command) and f != ref_file[0] and (f.endswith(\".wav\") or f.endswith(\".mp3\"))]\n",
    "\n",
    "    # Classification\n",
    "    for test_file in test_files:\n",
    "        test_signal, test_sr = load_audio(test_file)\n",
    "        test_mfcc = extract_mfcc(test_signal, test_sr)\n",
    "\n",
    "        distances = {}\n",
    "        for command, ref_file in reference_files.items():\n",
    "            ref_signal, ref_sr = load_audio(ref_file)\n",
    "            ref_mfcc = extract_mfcc(ref_signal, ref_sr)\n",
    "            distances[command] = calculate_dtw_distance(test_mfcc, ref_mfcc)\n",
    "\n",
    "        # commande avec la distance minimale\n",
    "        predicted_command = min(distances, key=distances.get)\n",
    "        actual_command = os.path.basename(test_file).split(\".\")[0].split(\"3\")[0].split(\"4\")[0].split(\"5\")[0]  # Extraire la commande réelle\n",
    "        results.append((test_file, actual_command, predicted_command))\n",
    "\n",
    "    return results\n",
    "\n",
    "# Calculer la précision\n",
    "def calculate_accuracy(results):\n",
    "    correct = sum(1 for _, actual, predicted in results if actual == predicted)\n",
    "    total = len(results)\n",
    "    accuracy = correct / total if total > 0 else 0\n",
    "    return accuracy\n",
    "\n",
    "results = classify_commands(audio_folder, commands)\n",
    "accuracy = calculate_accuracy(results)\n",
    "\n",
    "# Affichage\n",
    "print(\"Résultats de classification :\")\n",
    "for test_file, actual, predicted in results:\n",
    "    print(f\"Fichier : {test_file} | Commande réelle : {actual} | Commande prédite : {predicted}\")\n",
    "\n",
    "print(f\"\\nPrécision de classification : {accuracy * 100:.2f}%\")\n"
   ]
  },
  {
   "cell_type": "code",
   "execution_count": 10,
   "metadata": {},
   "outputs": [
    {
     "name": "stdout",
     "output_type": "stream",
     "text": [
      "Résultats de classification :\n",
      "Fichier : test3/adroite.wav | Commande réelle : adroite | Commande prédite : adroite\n",
      "Fichier : test3/adroite4.mp3 | Commande réelle : adroite | Commande prédite : adroite\n",
      "Fichier : test3/adroite5.mp3 | Commande réelle : adroite | Commande prédite : agauche\n",
      "Fichier : test3/adroite3.wav | Commande réelle : adroite | Commande prédite : adroite\n",
      "Fichier : test3/agauche4.mp3 | Commande réelle : agauche | Commande prédite : agauche\n",
      "Fichier : test3/agauche5.mp3 | Commande réelle : agauche | Commande prédite : agauche\n",
      "Fichier : test3/agauche.wav | Commande réelle : agauche | Commande prédite : agauche\n",
      "Fichier : test3/agauche3.wav | Commande réelle : agauche | Commande prédite : agauche\n",
      "Fichier : test3/enavant3.wav | Commande réelle : enavant | Commande prédite : adroite\n",
      "Fichier : test3/enavant.wav | Commande réelle : enavant | Commande prédite : enavant\n",
      "Fichier : test3/enavant4.mp3 | Commande réelle : enavant | Commande prédite : enavant\n",
      "Fichier : test3/enavant5.mp3 | Commande réelle : enavant | Commande prédite : enavant\n",
      "Fichier : test3/stop4.mp3 | Commande réelle : stop | Commande prédite : stop\n",
      "Fichier : test3/stop5.mp3 | Commande réelle : stop | Commande prédite : stop\n",
      "Fichier : test3/stop.wav | Commande réelle : stop | Commande prédite : adroite\n",
      "Fichier : test3/stop3.wav | Commande réelle : stop | Commande prédite : stop\n",
      "\n",
      "Précision de classification : 81.25%\n"
     ]
    }
   ],
   "source": [
    "import os\n",
    "import librosa\n",
    "import numpy as np\n",
    "from fastdtw import fastdtw\n",
    "\n",
    "audio_folder = \"test3\"\n",
    "\n",
    "commands = [\"adroite\", \"agauche\", \"enavant\", \"stop\"]\n",
    "\n",
    "# ici on va normaliser le signal \n",
    "def normalize_signal(signal):\n",
    "    return signal / np.max(np.abs(signal))\n",
    "\n",
    "# Réduction de bruit\n",
    "def reduce_noise(signal, sr):\n",
    "    return librosa.effects.remix(signal, intervals=librosa.effects.split(signal, top_db=20))\n",
    "\n",
    "\n",
    "# Charger et prétraiter l'audio\n",
    "def load_audio(file_path, sr=16000):\n",
    "    signal, sample_rate = librosa.load(file_path, sr=sr)\n",
    "    signal = normalize_signal(signal)\n",
    "    signal = reduce_noise(signal, sample_rate)\n",
    "    return signal, sample_rate\n",
    "\n",
    "# Extraction améliorée des MFCC avec ∆ et ∆²\n",
    "def extract_mfcc(signal, sample_rate, n_mfcc=13):\n",
    "    mfcc = librosa.feature.mfcc(y=signal, sr=sample_rate, n_mfcc=n_mfcc, hop_length=512, n_fft=2048)\n",
    "    delta = librosa.feature.delta(mfcc, width=3)  # Réduire la largeur de la fenêtre\n",
    "    delta2 = librosa.feature.delta(mfcc, order=2, width=3)\n",
    "    return np.hstack([mfcc.T, delta.T, delta2.T])  # Concaténer MFCC, ∆, ∆²\n",
    "\n",
    "# DTW\n",
    "def calculate_dtw_distance(mfcc1, mfcc2):\n",
    "    distance, _ = fastdtw(mfcc1, mfcc2, dist=lambda x, y: np.linalg.norm(x - y))\n",
    "    return distance\n",
    "\n",
    "# Classification\n",
    "def classify_commands(audio_folder, commands):\n",
    "    reference_files = {}\n",
    "    test_files = []\n",
    "    results = []\n",
    "\n",
    "    # On prend 2 comme ref\n",
    "    for command in commands:\n",
    "        ref_file = [f for f in os.listdir(audio_folder) if f.startswith(f\"{command}2\") and (f.endswith(\".wav\") or f.endswith(\".mp3\"))]\n",
    "        if ref_file:\n",
    "            reference_files[command] = os.path.join(audio_folder, ref_file[0])\n",
    "        test_files += [os.path.join(audio_folder, f) for f in os.listdir(audio_folder) \n",
    "                       if f.startswith(command) and f != ref_file[0] and (f.endswith(\".wav\") or f.endswith(\".mp3\"))]\n",
    "\n",
    "    # Classification\n",
    "    for test_file in test_files:\n",
    "        test_signal, test_sr = load_audio(test_file)\n",
    "        test_mfcc = extract_mfcc(test_signal, test_sr)\n",
    "\n",
    "        distances = {}\n",
    "        for command, ref_file in reference_files.items():\n",
    "            ref_signal, ref_sr = load_audio(ref_file)\n",
    "            ref_mfcc = extract_mfcc(ref_signal, ref_sr)\n",
    "            distances[command] = calculate_dtw_distance(test_mfcc, ref_mfcc)\n",
    "\n",
    "        # commande avec la distance minimale\n",
    "        predicted_command = min(distances, key=distances.get)\n",
    "        actual_command = os.path.basename(test_file).split(\".\")[0].split(\"3\")[0].split(\"4\")[0].split(\"5\")[0]  # Extraire la commande réelle\n",
    "        results.append((test_file, actual_command, predicted_command))\n",
    "\n",
    "    return results\n",
    "\n",
    "# Calculer la précision\n",
    "def calculate_accuracy(results):\n",
    "    correct = sum(1 for _, actual, predicted in results if actual == predicted)\n",
    "    total = len(results)\n",
    "    accuracy = correct / total if total > 0 else 0\n",
    "    return accuracy\n",
    "\n",
    "results = classify_commands(audio_folder, commands)\n",
    "accuracy = calculate_accuracy(results)\n",
    "\n",
    "# Affichage \n",
    "print(\"Résultats de classification :\")\n",
    "for test_file, actual, predicted in results:\n",
    "    print(f\"Fichier : {test_file} | Commande réelle : {actual} | Commande prédite : {predicted}\")\n",
    "\n",
    "print(f\"\\nPrécision de classification : {accuracy * 100:.2f}%\")\n"
   ]
  }
 ],
 "metadata": {
  "kernelspec": {
   "display_name": "Python 3",
   "language": "python",
   "name": "python3"
  },
  "language_info": {
   "codemirror_mode": {
    "name": "ipython",
    "version": 3
   },
   "file_extension": ".py",
   "mimetype": "text/x-python",
   "name": "python",
   "nbconvert_exporter": "python",
   "pygments_lexer": "ipython3",
   "version": "3.12.6"
  }
 },
 "nbformat": 4,
 "nbformat_minor": 2
}
